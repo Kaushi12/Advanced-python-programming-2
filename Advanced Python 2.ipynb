{
 "cells": [
  {
   "cell_type": "code",
   "execution_count": 3,
   "id": "87925f25",
   "metadata": {},
   "outputs": [],
   "source": [
    "def pentagonal(n):\n",
    "    return int((5*n*n-5*n+2)/2)"
   ]
  },
  {
   "cell_type": "code",
   "execution_count": 4,
   "id": "5365475f",
   "metadata": {},
   "outputs": [
    {
     "data": {
      "text/plain": [
       "16"
      ]
     },
     "execution_count": 4,
     "metadata": {},
     "output_type": "execute_result"
    }
   ],
   "source": [
    "pentagonal(3)"
   ]
  },
  {
   "cell_type": "code",
   "execution_count": 31,
   "id": "309a8e08",
   "metadata": {},
   "outputs": [],
   "source": [
    "def encrypt(word):\n",
    "    d={'a':0,'e':1,'i':2,'o':2,'u':3}\n",
    "    rev=word[::-1]\n",
    "    for i in rev:\n",
    "        for k,v in d.items():\n",
    "            if i==k:\n",
    "                rev=rev.replace(i,str(v))\n",
    "    final=rev+\"abc\"\n",
    "    return final"
   ]
  },
  {
   "cell_type": "code",
   "execution_count": 32,
   "id": "a4a4c9d2",
   "metadata": {},
   "outputs": [
    {
     "data": {
      "text/plain": [
       "'1lpp0abc'"
      ]
     },
     "execution_count": 32,
     "metadata": {},
     "output_type": "execute_result"
    }
   ],
   "source": [
    "encrypt(\"apple\")"
   ]
  },
  {
   "cell_type": "code",
   "execution_count": 36,
   "id": "e9e1662c",
   "metadata": {},
   "outputs": [],
   "source": [
    "from datetime import date\n",
    "def has_friday_13th(month,year):\n",
    "    if str(date(year,month,13).strftime(\"%A\")=='Friday'):\n",
    "        return True\n",
    "    else:\n",
    "        return False\n",
    "    \n",
    "    "
   ]
  },
  {
   "cell_type": "code",
   "execution_count": 37,
   "id": "393b4477",
   "metadata": {},
   "outputs": [
    {
     "data": {
      "text/plain": [
       "True"
      ]
     },
     "execution_count": 37,
     "metadata": {},
     "output_type": "execute_result"
    }
   ],
   "source": [
    "has_friday_13th(3,2020)"
   ]
  },
  {
   "cell_type": "code",
   "execution_count": 11,
   "id": "5a5f245f",
   "metadata": {},
   "outputs": [],
   "source": [
    "def plurize(l):\n",
    "    s=set()\n",
    "    for i in range(0,len(l)):\n",
    "        if l.count(l[i])>1:\n",
    "            s.add(l[i]+'s')\n",
    "        else:\n",
    "            s.add(l[i])\n",
    "            \n",
    "    return s"
   ]
  },
  {
   "cell_type": "code",
   "execution_count": 12,
   "id": "743e819b",
   "metadata": {},
   "outputs": [
    {
     "data": {
      "text/plain": [
       "{'cows', 'pig'}"
      ]
     },
     "execution_count": 12,
     "metadata": {},
     "output_type": "execute_result"
    }
   ],
   "source": [
    "plurize([\"cow\",\"pig\",\"cow\",\"cow\"])"
   ]
  },
  {
   "cell_type": "code",
   "execution_count": null,
   "id": "0e01de25",
   "metadata": {},
   "outputs": [],
   "source": []
  }
 ],
 "metadata": {
  "kernelspec": {
   "display_name": "Python 3",
   "language": "python",
   "name": "python3"
  },
  "language_info": {
   "codemirror_mode": {
    "name": "ipython",
    "version": 3
   },
   "file_extension": ".py",
   "mimetype": "text/x-python",
   "name": "python",
   "nbconvert_exporter": "python",
   "pygments_lexer": "ipython3",
   "version": "3.8.8"
  }
 },
 "nbformat": 4,
 "nbformat_minor": 5
}
